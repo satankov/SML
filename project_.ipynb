{
 "cells": [
  {
   "cell_type": "markdown",
   "metadata": {},
   "source": [
    "### 0. Используемые библиотеки и функции"
   ]
  },
  {
   "cell_type": "code",
   "execution_count": 1,
   "metadata": {},
   "outputs": [],
   "source": [
    "######## MAIN\n",
    "import pandas as pd\n",
    "import json\n",
    "import random\n",
    "import time\n",
    "import numpy as np\n",
    "import sklearn as sk\n",
    "import nltk\n",
    "import matplotlib.pyplot as plt\n",
    "from typing import List, Tuple\n",
    "\n",
    "######## METRICS\n",
    "from sklearn.metrics import roc_auc_score\n",
    "from sklearn.metrics import accuracy_score\n",
    "from sklearn.metrics import f1_score\n",
    "from sklearn.metrics import balanced_accuracy_score\n",
    "from sklearn.metrics import precision_recall_curve\n",
    "from sklearn.metrics import log_loss\n",
    "from sklearn.model_selection import train_test_split\n",
    "\n",
    "######## LEARN\n",
    "from sklearn.svm import SVC\n",
    "from sklearn.feature_extraction.text import TfidfVectorizer\n",
    "from sklearn.utils import shuffle\n",
    "from sklearn.ensemble import GradientBoostingClassifier\n",
    "from sklearn.ensemble import RandomForestClassifier\n",
    "\n",
    "\n",
    "# функция чтения записей из файла\n",
    "def read_file(path, i):      \n",
    "    cl, p = path[i]\n",
    "    \n",
    "    rdata = pd.read_json(p, lines=True)\n",
    "    row = pd.DataFrame({'class': [cl for j in range(len(rdata))]})   # создать столбец CLASS\n",
    "    data = pd.concat([rdata, row], axis=1)                           # вставить столбец CLASS\n",
    "    \n",
    "    col = ['reviewText','class']\n",
    "    return data[col]\n",
    "\n",
    "# функция, формирующая полный датасет\n",
    "def get_data(path):        \n",
    "    data = pd.DataFrame()\n",
    "    \n",
    "    for i in range(len(path)):\n",
    "        d0 = read_file(path,i)\n",
    "        data = data.append(d0)\n",
    "    \n",
    "    return data\n",
    "\n",
    "# вычисление AUC_ROC_SCORE для многоклассового случая\n",
    "def multiclass_roc_auc_score(y_test, y_pred):\n",
    "    lb = sk.preprocessing.LabelBinarizer()\n",
    "    lb.fit(y_test)\n",
    "    y_test = lb.transform(y_test)\n",
    "    y_pred = lb.transform(y_pred)\n",
    "    return roc_auc_score(y_test, y_pred)\n",
    "\n"
   ]
  },
  {
   "cell_type": "markdown",
   "metadata": {},
   "source": [
    "## Введите необходимые данные"
   ]
  },
  {
   "cell_type": "code",
   "execution_count": 2,
   "metadata": {},
   "outputs": [],
   "source": [
    "# название групп и путь к файлам\n",
    "\n",
    "path = np.array(['baby','data/reviews_Baby_5.json',  \n",
    "                 'beauty','data/reviews_Beauty_5.json',\n",
    "                'health','data/reviews_Health_and_Personal_Care_5.json']).reshape(-1,2)\n",
    "\n",
    "# DATA FROM http://jmcauley.ucsd.edu/data/amazon/\n",
    "# 5-star rattings groups: Beauty, Baby, Health and Personal Care\n",
    "# I can't upload this files on GitHub, bcoz they're bigger than 25 MB\n",
    "\n",
    "\n",
    "# кол-во записей каждой из групп товаров\n",
    "\n",
    "N_1 = 10000    # кол-во записей 1-й группы\n",
    "N_2 = 10000    # кол-во записей 2-й группы\n",
    "N_3 = 10000    # кол-во записей 3-й группы\n",
    "\n",
    "\n",
    "# параметры для моделей\n",
    "C_ = 1         # параметр для SVM\n",
    "N_ = 200       # параметр для RF\n",
    "I_ = 250       # параметр для Gboost"
   ]
  },
  {
   "cell_type": "markdown",
   "metadata": {},
   "source": [
    "### 1. Предобработка"
   ]
  },
  {
   "cell_type": "code",
   "execution_count": 3,
   "metadata": {},
   "outputs": [],
   "source": [
    "full = get_data(path)         # получить датасет\n",
    "full_prep = full.copy()\n",
    "full_prep['class'].replace({path[0][0]: 1, path[1][0]: 2, path[2][0]: 3}, inplace=True)    # заменить метки классов на числа\n",
    "full_prep.head()\n",
    "\n",
    "full_prep_1 = full_prep[full_prep['class'] == 1][:N_1]     # взять N_1 записей из первой группы\n",
    "full_prep_2 = full_prep[full_prep['class'] == 2][:N_2]     # взять N_2 записей из второй группы\n",
    "full_prep_3 = full_prep[full_prep['class'] == 3][:N_3]     # взять N_3 записей из третей группы\n",
    "full_prep = pd.DataFrame()\n",
    "full_prep = full_prep.append(full_prep_1).append(full_prep_2).append(full_prep_3)\n",
    "\n",
    "\n",
    "# предобработка. Выделение данных и целевой переменной\n",
    "full2 = shuffle(full_prep, random_state=241)\n",
    "data = full2['reviewText']\n",
    "target = full2['class']\n",
    "\n",
    "# предобработка. разбиение на ОБУЧЕНИЕ и ТЕСТ\n",
    "X_train, X_test, y_train, y_test = train_test_split(data, target, test_size=0.3, random_state=42)\n",
    "\n",
    "X_train = X_train.values.astype('U')\n",
    "X_test = X_test.values.astype('U')\n",
    "y_train = y_train.values.astype('U')\n",
    "y_test = y_test.values.astype('U')\n",
    "\n",
    "# предобработка. Векторизация признаков\n",
    "text = TfidfVectorizer(min_df=10, decode_error='replace', encoding='utf-8', stop_words='english')\n",
    "X = text.fit_transform(X_train)\n",
    "\n",
    "\n"
   ]
  },
  {
   "cell_type": "markdown",
   "metadata": {},
   "source": [
    "### 2.1 SVM (Метод опорных векторов)"
   ]
  },
  {
   "cell_type": "code",
   "execution_count": 4,
   "metadata": {},
   "outputs": [],
   "source": [
    "acc = []\n",
    "f2_score = []\n",
    "ROC = []\n",
    "\n",
    "\n",
    "clf = SVC(C = C_, random_state=241, kernel='linear', decision_function_shape='ovo')        # классификатор\n",
    "clf.fit(X, y_train)\n",
    "svm_preds = clf.predict(text.transform(X_test))\n",
    "\n",
    "acc = acc + [accuracy_score(y_test, svm_preds)]\n",
    "f2_score = f2_score + [f1_score(y_test, svm_preds, average = 'macro')]\n",
    "ROC = ROC + [multiclass_roc_auc_score(y_test, svm_preds)]"
   ]
  },
  {
   "cell_type": "code",
   "execution_count": 5,
   "metadata": {},
   "outputs": [
    {
     "name": "stdout",
     "output_type": "stream",
     "text": [
      "Smallest tfidf:\n",
      "['summary' 'intuitive' 'route' 'edta' '210' 'explode' 'blotchy'\n",
      " 'preservatives' '95' 'rebecca']\n",
      "\n",
      "Largest tfidf: \n",
      "['nice' 'know' 'better' 'works' 'delicious' 'ok' 'love' 'refreshing'\n",
      " 'good' 'gift']\n",
      "\n",
      "Smallest Coefs:\n",
      "['hair' 'skin' 'face' 'smells' 'scent' 'brush' 'fragrance' 'lotion' 'oil'\n",
      " 'soap']\n",
      "\n",
      "Largest Coefs: \n",
      "['baby' 'son' 'diaper' 'daughter' 'nipples' 'milk' 'bottles' 'avent'\n",
      " 'crib' 'pillow']\n"
     ]
    }
   ],
   "source": [
    "# Результаты для построения облаков слов\n",
    "\n",
    "feature_names = np.array(text.get_feature_names())\n",
    "sorted_tfidf_index = X.max(0).toarray()[0].argsort()\n",
    "\n",
    "print('Smallest tfidf:\\n{}\\n'.format(feature_names[sorted_tfidf_index[:10]]))\n",
    "print('Largest tfidf: \\n{}'.format(feature_names[sorted_tfidf_index[:-11:-1]]))\n",
    "\n",
    "sorted_coef_index = clf.coef_[0].toarray()[0].argsort()\n",
    "print('\\nSmallest Coefs:\\n{}\\n'.format(feature_names[sorted_coef_index[:10]]))\n",
    "print('Largest Coefs: \\n{}'.format(feature_names[sorted_coef_index[:-11:-1]]))"
   ]
  },
  {
   "cell_type": "markdown",
   "metadata": {},
   "source": [
    "### 2.2 RF (Случайный лес)"
   ]
  },
  {
   "cell_type": "code",
   "execution_count": 6,
   "metadata": {},
   "outputs": [],
   "source": [
    "n = 260\n",
    "forest = RandomForestClassifier(n_estimators=N_, random_state=241, n_jobs=-1) # n_jobs=-1 - parallel on all processors\n",
    "forest.fit(X, y_train)\n",
    "rf_preds = forest.predict(text.transform(X_test))\n",
    "\n",
    "acc = acc + [accuracy_score(y_test, rf_preds)]\n",
    "f2_score = f2_score + [f1_score(y_test, rf_preds, average = 'macro')]\n",
    "ROC = ROC + [multiclass_roc_auc_score(y_test, rf_preds)]"
   ]
  },
  {
   "cell_type": "markdown",
   "metadata": {},
   "source": [
    "### 2.3 Gboost (Градиентный бустинг)"
   ]
  },
  {
   "cell_type": "code",
   "execution_count": 7,
   "metadata": {},
   "outputs": [],
   "source": [
    "gb = GradientBoostingClassifier(learning_rate=1, n_estimators=I_, random_state=241)\n",
    "gb.fit(X, y_train)\n",
    "gb_preds = gb.predict(text.transform(X_test))\n",
    "\n",
    "\n",
    "acc = acc + [accuracy_score(y_test, gb_preds)]\n",
    "f2_score = f2_score + [f1_score(y_test, gb_preds, average = 'macro')]\n",
    "ROC = ROC + [multiclass_roc_auc_score(y_test, gb_preds)]"
   ]
  },
  {
   "cell_type": "markdown",
   "metadata": {},
   "source": [
    "### 3. Сравнение результатов по трем методам"
   ]
  },
  {
   "cell_type": "code",
   "execution_count": 8,
   "metadata": {},
   "outputs": [
    {
     "name": "stderr",
     "output_type": "stream",
     "text": [
      "/Users/satankov/anaconda3/lib/python3.6/site-packages/matplotlib/figure.py:98: MatplotlibDeprecationWarning: \n",
      "Adding an axes using the same arguments as a previous axes currently reuses the earlier instance.  In a future version, a new instance will always be created and returned.  Meanwhile, this warning can be suppressed, and the future behavior ensured, by passing a unique label to each axes instance.\n",
      "  \"Adding an axes using the same arguments as a previous axes \"\n"
     ]
    },
    {
     "data": {
      "text/plain": [
       "<matplotlib.legend.Legend at 0x1a53f38cc0>"
      ]
     },
     "execution_count": 8,
     "metadata": {},
     "output_type": "execute_result"
    },
    {
     "data": {
      "image/png": "[encoded data removed]",
      "text/plain": [
       "<Figure size 512x384 with 1 Axes>"
      ]
     },
     "metadata": {
      "needs_background": "light"
     },
     "output_type": "display_data"
    }
   ],
   "source": [
    "import matplotlib as mpl\n",
    "import matplotlib.dates as mdates\n",
    "import datetime as dt\n",
    "import csv\n",
    "\n",
    "data_names = ['SVM', 'RF', 'GBoost']\n",
    "\n",
    "dpi = 80\n",
    "fig = plt.figure(dpi = dpi, figsize = (512 / dpi, 384 / dpi) )\n",
    "mpl.rcParams.update({'font.size': 12})\n",
    "\n",
    "plt.title('')\n",
    "\n",
    "ax = plt.axes()\n",
    "ax.xaxis.grid(True, zorder = 1)\n",
    "\n",
    "xs = range(len(data_names))\n",
    "\n",
    "plt.bar([x + 0.05 for x in xs], acc,\n",
    "        width = 0.2, color = 'red', alpha = 0.7, label = 'ACC',\n",
    "        zorder = 2)\n",
    "plt.bar([x + 0.3 for x in xs], f2_score,\n",
    "        width = 0.2, color = 'blue', alpha = 0.7, label = 'F_score',\n",
    "        zorder = 2)\n",
    "plt.bar([x + 0.55 for x in xs], ROC,\n",
    "        width = 0.2, color = 'green', alpha = 0.7, label = 'AUC-ROC',\n",
    "        zorder = 2)\n",
    "\n",
    "plt.axis([-.2, 3, 0.8, 1])\n",
    "plt.xticks(xs, data_names, rotation = 0)\n",
    "\n",
    "plt.legend(loc='best')\n"
   ]
  },
  {
   "cell_type": "markdown",
   "metadata": {},
   "source": [
    "# 4. ПОДБОР оптимальных параметров для трех методов"
   ]
  },
  {
   "cell_type": "markdown",
   "metadata": {},
   "source": [
    "### 4.1 Подбор значения параметра 'C'  для метода SVM"
   ]
  },
  {
   "cell_type": "code",
   "execution_count": 7,
   "metadata": {},
   "outputs": [
    {
     "name": "stderr",
     "output_type": "stream",
     "text": [
      "/Users/satankov/anaconda3/lib/python3.6/site-packages/sklearn/metrics/classification.py:1143: UndefinedMetricWarning: F-score is ill-defined and being set to 0.0 in labels with no predicted samples.\n",
      "  'precision', 'predicted', average, warn_for)\n"
     ]
    },
    {
     "name": "stdout",
     "output_type": "stream",
     "text": [
      "\n",
      "--- 5221.950565099716 seconds ---\n"
     ]
    }
   ],
   "source": [
    "start_time = time.time()\n",
    "\n",
    "svm_scores = pd.DataFrame(columns=['c','acc','f_macro','roc'])\n",
    "\n",
    "\n",
    "range_ = np.power(10.0, np.arange(-3, 4))\n",
    "for c in range_:\n",
    "    clf = SVC(C = c, random_state=241, kernel='linear', decision_function_shape='ovo')        # классификатор\n",
    "    clf.fit(X, y_train)\n",
    "    svm_preds = clf.predict(text.transform(X_test))\n",
    "    \n",
    "    roc = multiclass_roc_auc_score(y_test, svm_preds)\n",
    "    acc = accuracy_score(y_test, svm_preds)\n",
    "    f_macro = f1_score(y_test, svm_preds, average = 'macro')\n",
    "    \n",
    "    svm_scores = svm_scores.append({'c': c, 'acc': acc, 'f_macro': f_macro, 'roc': roc}, \n",
    "                                   ignore_index=True)\n",
    "\n",
    "print(\"\\n--- %s seconds ---\" % (time.time() - start_time))"
   ]
  },
  {
   "cell_type": "code",
   "execution_count": null,
   "metadata": {},
   "outputs": [],
   "source": [
    "# Export results\n",
    "\n",
    "svm_scores.to_csv('result/svm_150k.csv')     # find C\n",
    "svm_scores"
   ]
  },
  {
   "cell_type": "markdown",
   "metadata": {},
   "source": [
    "### 4.2 Подбор значения параметра 'n'  для метода RF"
   ]
  },
  {
   "cell_type": "code",
   "execution_count": 8,
   "metadata": {},
   "outputs": [
    {
     "name": "stdout",
     "output_type": "stream",
     "text": [
      "\n",
      "--- 5149.464565038681 seconds ---\n"
     ]
    }
   ],
   "source": [
    "start_time = time.time()\n",
    "\n",
    "rf_scores = pd.DataFrame(columns=['n','acc','f_macro','roc'])\n",
    "\n",
    "X_test_t = text.transform(X_test)\n",
    "for n in range(10, 510, 50):\n",
    "    forest = RandomForestClassifier(n_estimators=n, random_state=241, n_jobs=-1) # n_jobs=-1 - parallel on all processors\n",
    "    forest.fit(X, y_train)\n",
    "    rf_preds = forest.predict(X_test_t)\n",
    "    \n",
    "    roc = multiclass_roc_auc_score(y_test, rf_preds)\n",
    "    acc = accuracy_score(y_test, rf_preds)\n",
    "    f_macro = f1_score(y_test, rf_preds, average = 'macro')\n",
    "    \n",
    "    rf_scores = rf_scores.append({'n': n, 'acc': acc, 'f_macro': f_macro, 'roc': roc}, ignore_index=True)\n",
    "\n",
    "print(\"\\n--- %s seconds ---\" % (time.time() - start_time))"
   ]
  },
  {
   "cell_type": "code",
   "execution_count": 9,
   "metadata": {},
   "outputs": [],
   "source": [
    "rf_scores.to_csv('result/rf_150k.csv')\n",
    "rf_scores"
   ]
  },
  {
   "cell_type": "markdown",
   "metadata": {},
   "source": [
    "### 4.3 Подбор значения параметра 'n'  для метода Gboost"
   ]
  },
  {
   "cell_type": "code",
   "execution_count": 62,
   "metadata": {},
   "outputs": [],
   "source": [
    "def sigmoid(y_pred: np.array) -> np.array:\n",
    "    return 1.0 / (1.0 + np.exp(-y_pred))\n",
    "\n",
    "def log_loss_results(model, X: np.array, y: np.array) -> List[float]:\n",
    "    return [log_loss(y, sigmoid(y_pred)) for y_pred in model.staged_decision_function(X)]"
   ]
  },
  {
   "cell_type": "code",
   "execution_count": 79,
   "metadata": {},
   "outputs": [
    {
     "name": "stdout",
     "output_type": "stream",
     "text": [
      "Learning rate: 1.0\n",
      "      Iter       Train Loss   Remaining Time \n",
      "         1        2647.1491            7.53s\n",
      "         2        2338.2032            7.38s\n",
      "         3        2099.2049            7.39s\n",
      "         4        1940.9199            7.53s\n",
      "         5        1832.0805            7.35s\n",
      "         6        1732.1680            7.23s\n",
      "         7        1647.0582            7.21s\n",
      "         8        1567.8759            7.48s\n",
      "         9        1503.1692            7.60s\n",
      "        10        1446.8504            7.57s\n",
      "        20        1016.0422            6.54s\n",
      "        30         759.4118            5.56s\n",
      "        40         578.1912            4.64s\n",
      "        50         470.1194            3.83s\n",
      "        60         385.5672            3.07s\n",
      "        70         320.8683            2.28s\n",
      "        80         268.2682            1.51s\n",
      "        90         233.7997            0.76s\n",
      "       100         203.6153            0.00s\n"
     ]
    },
    {
     "data": {
      "image/png": "[encoded data removed]",
      "text/plain": [
       "<Figure size 432x288 with 1 Axes>"
      ]
     },
     "metadata": {
      "needs_background": "light"
     },
     "output_type": "display_data"
    },
    {
     "name": "stdout",
     "output_type": "stream",
     "text": [
      "Min loss 0.61 at n_estimators=100\n",
      "\n",
      "Learning rate: 0.5\n",
      "      Iter       Train Loss   Remaining Time \n",
      "         1        3013.2216            8.05s\n",
      "         2        2699.6796            7.61s\n",
      "         3        2495.2751            7.49s\n",
      "         4        2351.6429            7.33s\n",
      "         5        2234.1863            7.19s\n",
      "         6        2145.5489            7.10s\n",
      "         7        2060.8273            7.00s\n",
      "         8        1989.1825            6.89s\n",
      "         9        1923.6079            6.84s\n",
      "        10        1864.5866            6.81s\n",
      "        20        1456.6593            6.31s\n",
      "        30        1229.0838            5.58s\n",
      "        40        1045.3916            4.69s\n",
      "        50         916.9815            3.89s\n",
      "        60         812.2533            3.12s\n",
      "        70         721.6089            2.35s\n",
      "        80         654.6269            1.55s\n",
      "        90         597.7762            0.77s\n",
      "       100         547.8223            0.00s\n"
     ]
    },
    {
     "data": {
      "image/png": "[encoded data removed]",
      "text/plain": [
       "<Figure size 432x288 with 1 Axes>"
      ]
     },
     "metadata": {
      "needs_background": "light"
     },
     "output_type": "display_data"
    },
    {
     "name": "stdout",
     "output_type": "stream",
     "text": [
      "Min loss 0.67 at n_estimators=100\n",
      "\n",
      "Learning rate: 0.25\n",
      "      Iter       Train Loss   Remaining Time \n",
      "         1        3320.9049            7.95s\n",
      "         2        3058.8977            7.63s\n",
      "         3        2876.6478            7.49s\n",
      "         4        2736.6618            7.48s\n",
      "         5        2622.1898            7.45s\n",
      "         6        2531.1322            7.41s\n",
      "         7        2449.2022            7.36s\n",
      "         8        2380.8405            7.21s\n",
      "         9        2320.1164            7.13s\n",
      "        10        2264.8398            7.19s\n",
      "        20        1887.4167            6.58s\n",
      "        30        1663.3757            5.70s\n",
      "        40        1506.7382            4.84s\n",
      "        50        1374.6587            4.02s\n",
      "        60        1268.0304            3.21s\n",
      "        70        1176.2314            2.38s\n",
      "        80        1095.8641            1.59s\n",
      "        90        1033.4201            0.79s\n",
      "       100         968.4456            0.00s\n"
     ]
    },
    {
     "data": {
      "image/png": "[encoded data removed]",
      "text/plain": [
       "<Figure size 432x288 with 1 Axes>"
      ]
     },
     "metadata": {
      "needs_background": "light"
     },
     "output_type": "display_data"
    },
    {
     "name": "stdout",
     "output_type": "stream",
     "text": [
      "Min loss 0.73 at n_estimators=100\n",
      "\n",
      "Learning rate: 0.1\n",
      "      Iter       Train Loss   Remaining Time \n",
      "         1        3561.6336            8.67s\n",
      "         2        3409.2934            7.90s\n",
      "         3        3282.7612            7.71s\n",
      "         4        3175.9548            7.57s\n",
      "         5        3082.5525            7.42s\n",
      "         6        3001.5146            7.34s\n",
      "         7        2931.0660            7.50s\n",
      "         8        2868.0859            7.64s\n",
      "         9        2809.4153            7.52s\n",
      "        10        2757.6459            7.55s\n",
      "        20        2401.8440            6.86s\n",
      "        30        2190.7351            5.93s\n",
      "        40        2032.9368            5.11s\n",
      "        50        1909.6475            4.24s\n",
      "        60        1810.7833            3.39s\n",
      "        70        1729.3953            2.58s\n",
      "        80        1652.6708            1.71s\n",
      "        90        1585.7879            0.85s\n",
      "       100        1529.1247            0.00s\n"
     ]
    },
    {
     "data": {
      "image/png": "[encoded data removed]",
      "text/plain": [
       "<Figure size 432x288 with 1 Axes>"
      ]
     },
     "metadata": {
      "needs_background": "light"
     },
     "output_type": "display_data"
    },
    {
     "name": "stdout",
     "output_type": "stream",
     "text": [
      "Min loss 0.79 at n_estimators=100\n",
      "\n"
     ]
    }
   ],
   "source": [
    "def plot_loss(learning_rate: float, test_loss: List[float], train_loss: List[float]) -> None:\n",
    "    plt.figure()\n",
    "    plt.plot(test_loss, \"r\", linewidth=2)\n",
    "    plt.plot(train_loss, \"g\", linewidth=2)\n",
    "    plt.legend([\"test\", \"train\"])\n",
    "    plt.xlabel('n')\n",
    "    plt.ylabel('log_loss')\n",
    "    plt.title('learning rate = ' + str(learning_rate) + '')\n",
    "    plt.show()\n",
    "\n",
    "min_loss_results = {}\n",
    "X_test_t = text.transform(X_test)\n",
    "range_lr = np.array([1, 0.5, 0.25, 0.1])\n",
    "for lr in range_lr:\n",
    "    print(f\"Learning rate: {lr}\")\n",
    "\n",
    "    model = GradientBoostingClassifier(learning_rate=lr, n_estimators=100, verbose=True, random_state=241\n",
    "                                        #, validation_fraction=0.2, n_iter_no_change=100, tol=0.01\n",
    "                                      )\n",
    "    model.fit(X, y_train)\n",
    "    \n",
    "    train_loss = log_loss_results(model, X, y_train)\n",
    "    test_loss = log_loss_results(model, X_test_t, y_test)\n",
    "    plot_loss(lr, test_loss, train_loss)\n",
    "    \n",
    "    min_loss_value = min(test_loss)\n",
    "    min_loss_index = test_loss.index(min_loss_value) + 1\n",
    "    min_loss_results[lr] = min_loss_value, min_loss_index\n",
    "\n",
    "    print(f\"Min loss {min_loss_value:.2f} at n_estimators={min_loss_index}\\n\")"
   ]
  },
  {
   "cell_type": "code",
   "execution_count": 142,
   "metadata": {},
   "outputs": [
    {
     "name": "stdout",
     "output_type": "stream",
     "text": [
      "0.98 11\n"
     ]
    }
   ],
   "source": [
    "min_loss_value, min_loss_index = min_loss_results[1]\n",
    "print(f\"{min_loss_value:.2f} {min_loss_index}\")"
   ]
  }
 ],
 "metadata": {
  "kernelspec": {
   "display_name": "Python 3",
   "language": "python",
   "name": "python3"
  },
  "language_info": {
   "codemirror_mode": {
    "name": "ipython",
    "version": 3
   },
   "file_extension": ".py",
   "mimetype": "text/x-python",
   "name": "python",
   "nbconvert_exporter": "python",
   "pygments_lexer": "ipython3",
   "version": "3.6.8"
  }
 },
 "nbformat": 4,
 "nbformat_minor": 2
}
